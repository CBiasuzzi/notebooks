{
 "cells": [
  {
   "cell_type": "code",
   "execution_count": null,
   "id": "d3f0c3de-061c-4903-97bc-2bb5d5051858",
   "metadata": {},
   "outputs": [],
   "source": [
    "# DEMO"
   ]
  },
  {
   "cell_type": "code",
   "execution_count": null,
   "id": "4dbb2f7d-15b6-4bd2-b512-a0c7a3bf15fe",
   "metadata": {
    "jupyter": {
     "source_hidden": true
    }
   },
   "outputs": [],
   "source": [
    "import io\n",
    "import requests\n",
    "import json\n",
    "import pandas as pd\n",
    "from ipywidgets import HTML, Layout, IntSlider, jslink\n",
    "from ipyleaflet import Map, Marker, Popup, LayerGroup, Icon, ScaleControl, LayersControl, Layer, FullScreenControl, GeomanDrawControl, WidgetControl\n",
    "import plotly.express as px\n",
    "\n",
    "import warnings\n",
    "\n",
    "warnings.simplefilter(action='ignore', category=FutureWarning)\n",
    "warnings.simplefilter(action='ignore', category=DeprecationWarning)\n",
    "pd.set_option('mode.chained_assignment', None)\n",
    "\n",
    "\n",
    "def get_from_url(url):\n",
    "    s = requests.get(url).content\n",
    "    return io.StringIO(s.decode('utf-8')).getvalue()\n",
    "\n",
    "def get_basemap(centerLat, centerLon, zoom_level=6):\n",
    "    m = Map(center=(centerLat, centerLon), zoom=zoom_level,  layout=Layout(width='800px', height='800px', keyboard=False))\n",
    "    m.add(FullScreenControl())\n",
    "\n",
    "    draw_control = GeomanDrawControl()\n",
    "    draw_control.polyline =  {\n",
    "        \"pathOptions\": {\n",
    "            \"color\": \"#6bc2e5\",\n",
    "            \"weight\": 8,\n",
    "            \"opacity\": 1.0\n",
    "        }\n",
    "    }\n",
    "    draw_control.polygon = {\n",
    "        \"pathOptions\": {\n",
    "            \"fillColor\": \"#6be5c3\",\n",
    "            \"color\": \"#6be5c3\",\n",
    "            \"fillOpacity\": 1.0\n",
    "        }\n",
    "    }\n",
    "    draw_control.rectangle = {\n",
    "        \"pathOptions\": {\n",
    "            \"fillColor\": \"#fca45d\",\n",
    "            \"color\": \"#fca45d\",\n",
    "            \"fillOpacity\": 1.0\n",
    "        }\n",
    "    }\n",
    "    \n",
    "    #m.add(draw_control)\n",
    "\n",
    "    zoom_slider = IntSlider(description='Zoom level:', min=0, max=15, value=zoom_level)\n",
    "    jslink((zoom_slider, 'value'), (m, 'zoom'))\n",
    "    widget_control1 = WidgetControl(widget=zoom_slider, position='bottomleft')\n",
    "    m.add(widget_control1)\n",
    "    return m\n",
    "\n",
    "\n",
    "def show_tsunami_data_on_a_map(df):\n",
    "    centerLat=df['properties.PlaceLat'].mean()\n",
    "    centerLon=df['properties.PlaceLon'].mean()\n",
    "    m = get_basemap(centerLat, centerLon)\n",
    "    icon1 = Icon(icon_url='https://www.ics-c.epos-eu.org/assets/img/logo/TSU_logo.png', icon_size=[40, 40])\n",
    "    markers = []\n",
    "    for _, row in df.iterrows():\n",
    "        popup_html = f\"\"\"\n",
    "        <b>{row['properties.PlaceName']} ({row['properties.Province']})</b><br>\n",
    "        Municipality: {row['properties.Municipality']} <br>\n",
    "        ISTAT: {row['properties.ISTAT']}<br>\n",
    "        <a href=\"{row['properties.Link']}\" target=\"_blank\">Link</a>\n",
    "        \"\"\"\n",
    "        marker = Marker(location=(row['properties.PlaceLat'], row['properties.PlaceLon']), draggable=False)\n",
    "        marker.icon=icon1\n",
    "        marker.popup=HTML(popup_html)\n",
    "        markers.append(marker)\n",
    "\n",
    "    layer_group = LayerGroup(layers=markers)\n",
    "    m.add_layer(layer_group)\n",
    "    return m\n",
    "\n",
    "def show_volcano_data_on_a_map(df, zoom_level=11):\n",
    "    centerLat=df['lat'].mean()\n",
    "    centerLon=df['lon'].mean()\n",
    "    m = get_basemap(centerLat, centerLon, zoom_level=zoom_level)\n",
    "    icon1 = Icon(icon_url='https://www.ics-c.epos-eu.org/assets/img/logo/VOLCANO_logo.png', icon_size=[40, 40])\n",
    "    markers = []\n",
    "    for _, row in df.iterrows():\n",
    "        popup_content = \"\".join(\n",
    "            f\"<b>{col}:</b> {row[col]}<br>\"\n",
    "            for col in df.columns if col not in ['Lat', 'Lon']\n",
    "        )\n",
    "        marker = Marker(location=(row['lat'], row['lon']), draggable=False)\n",
    "        marker.icon=icon1\n",
    "        marker.popup=HTML(popup_content)\n",
    "        markers.append(marker)\n",
    "\n",
    "    layer_group = LayerGroup(layers=markers)\n",
    "    m.add_layer(layer_group)\n",
    "    return m\n",
    "\n",
    "def plot_ts_data(df, x_attr, y_attr, plot_name, color=None):\n",
    "    fig = px.line(\n",
    "        df, \n",
    "        x=x_attr, \n",
    "        y=y_attr, \n",
    "        title=plot_name, \n",
    "        markers=True,\n",
    "        color=color\n",
    "    )\n",
    "    return fig\n",
    "    \n",
    "def get_my_bookmarks():\n",
    "    bookmarks=[{\"name\": \"Tsunami History WFS (ITED V1)\",\n",
    "              \"url\" : \"https://tsunamiarchiveservices.ingv.it/services/tsunami/wfs/wfs?service=WFS&version=2.0.0&request=GetFeature&typeNames=tsunami%3AITED_v1_localities&outputFormat=json&cql_filter=bbox%28geom%2C28.2829990386963,-56.3000030517578,69.8170013427734,41%29\" },\n",
    "              {\"name\": \"Mt Etna Earthquake Parameters (2000-2019)\",\n",
    "              \"url\" : \"https://vo-tcs.ct.ingv.it/rest/seismic-catalog/query/starttime=2018-10-22T21%3A37%3A52&endtime=2018-11-01T01%3A40%3A02?minlat=37.7&maxlat=37.78&minlong=14.993&maxlong=15.1&mdmin=1.1&mdmax=1.5&mlmin=1.1&mlmax=1.7&mindepth=4\" },\n",
    "               {\"name\": \"TABOO Meteo at CO2 site - air temperature - uppiano\",\n",
    "                \"url\": \"https://fridgews.ingv.it/meteo/?param_name=air_temperature&mintime=2016-12-01T00%3A00%3A00.000Z&maxtime=2016-12-31T23%3A59%3A00.000Z&minlat=43&maxlat=44&minlon=11.9662&maxlon=13&stacode=uppiano\"},\n",
    "               {\"name\": \"TABOO Meteo at CO2 site - air temperature - nogna\",\n",
    "                \"url\": \"https://fridgews.ingv.it/meteo/?param_name=air_temperature&mintime=2016-12-01T00%3A00%3A00.000Z&maxtime=2016-12-31T23%3A59%3A00.000Z&minlat=43&maxlat=44&minlon=11.9662&maxlon=13&stacode=nogna\"}               \n",
    "              ]\n",
    "    return bookmarks\n",
    "\n",
    "\n",
    "class Workspace:\n",
    "    def __init__(self, bookmarks):\n",
    "        self.bookmarks = bookmarks\n",
    "        self.dataframe=pd.DataFrame(self.bookmarks)\n",
    "        self.dataframe.style.set_properties(**{'width': '300px'}, **{'text-align': 'left'})\n",
    "      \n",
    "    def get_bookmarks(self):\n",
    "        return self.bookmarks\n",
    "\n",
    "    def get_bookmarks_df(self):\n",
    "        bkdf=pd.DataFrame(self.bookmarks)\n",
    "        bkdf.style.set_properties(**{'width': '300px'}, **{'text-align': 'left'})\n",
    "        return bkdf\n",
    "\n",
    "    def get_bookmark(self, i):\n",
    "        return self.bookmarks[i]['name'], self.bookmarks[i]['url']\n",
    "\n",
    "    def get_data(self, i):\n",
    "        return get_from_url(self.bookmarks[i]['url'])\n",
    "\n",
    "    def _repr_html_(self):\n",
    "        #with pd.option_context('display.max_colwidth', None, 'display.colheader_justify', 'left'):\n",
    "        return self.dataframe._repr_html_()\n",
    "\n",
    "class IPSES:\n",
    "    def __init__(self, userId):\n",
    "        self.userId=userId\n",
    "\n",
    "    def get_workspace(self):\n",
    "        return Workspace( bookmarks=[{\"name\": \"Tsunami History WFS (ITED V1)\",\n",
    "              \"url\" : \"https://tsunamiarchiveservices.ingv.it/services/tsunami/wfs/wfs?service=WFS&version=2.0.0&request=GetFeature&typeNames=tsunami%3AITED_v1_localities&outputFormat=json&cql_filter=bbox%28geom%2C28.2829990386963,-56.3000030517578,69.8170013427734,41%29\" },\n",
    "              {\"name\": \"Mt Etna Earthquake Parameters (2000-2019)\",\n",
    "              \"url\" : \"https://vo-tcs.ct.ingv.it/rest/seismic-catalog/query/starttime=2018-10-22T21%3A37%3A52&endtime=2018-11-01T01%3A40%3A02?minlat=37.7&maxlat=37.78&minlong=14.993&maxlong=15.1&mdmin=1.1&mdmax=1.5&mlmin=1.1&mlmax=1.7&mindepth=4\" },\n",
    "               {\"name\": \"TABOO Meteo at CO2 site - air temperature - uppiano\",\n",
    "                \"url\": \"https://fridgews.ingv.it/meteo/?param_name=air_temperature&mintime=2016-12-01T00%3A00%3A00.000Z&maxtime=2016-12-31T23%3A59%3A00.000Z&minlat=43&maxlat=44&minlon=11.9662&maxlon=13&stacode=uppiano\"},\n",
    "               {\"name\": \"TABOO Meteo at CO2 site - air temperature - nogna\",\n",
    "                \"url\": \"https://fridgews.ingv.it/meteo/?param_name=air_temperature&mintime=2016-12-01T00%3A00%3A00.000Z&maxtime=2016-12-31T23%3A59%3A00.000Z&minlat=43&maxlat=44&minlon=11.9662&maxlon=13&stacode=nogna\"}               \n",
    "              ])\n",
    "        "
   ]
  },
  {
   "cell_type": "code",
   "execution_count": null,
   "id": "b0917b6f-91c9-41c7-9819-180b9fa6351f",
   "metadata": {
    "jupyter": {
     "source_hidden": true
    }
   },
   "outputs": [],
   "source": [
    "import pandas as pd\n",
    "import random\n",
    "import requests\n",
    "import pandas as pd\n",
    "import plotly.graph_objects as go\n",
    "from datetime import datetime, timedelta\n",
    "from IPython.display import display, clear_output\n",
    "import threading\n",
    "import time\n",
    "\n",
    "class TemperatureDataSimulator:\n",
    "    def __init__(self, start_time=None, interval_seconds=10, window_size=10):\n",
    "        self.window_size = window_size\n",
    "        self.interval_seconds = interval_seconds\n",
    "        self.data = pd.DataFrame(columns=['time', 'value'])\n",
    "        initial_time = start_time if start_time else datetime.now()\n",
    "        initial_temperature = random.uniform(-20, 20)\n",
    "        initial_data = pd.DataFrame([{'time': initial_time, 'value': initial_temperature}])\n",
    "        self.data = pd.concat([self.data, initial_data], ignore_index=True)\n",
    "        self.lock = threading.Lock()\n",
    "\n",
    "    def fetch_new_data_point(self):\n",
    "        with self.lock:\n",
    "            last_time = self.data['time'].iloc[-1]\n",
    "            new_time = last_time + timedelta(seconds=self.interval_seconds)\n",
    "            new_temperature = random.uniform(-20, 20)\n",
    "            new_data_point = pd.DataFrame([{'time': new_time, 'value': new_temperature}])\n",
    "            self.data = pd.concat([self.data, new_data_point], ignore_index=True)\n",
    "            if len(self.data) > self.window_size:\n",
    "                self.data = self.data.iloc[-self.window_size:]\t\t\t\n",
    "\n",
    "class DisplayDynamicDataDemo:\n",
    "    def __init__(self, simulator):\n",
    "        self.simulator=simulator\n",
    "        self.stop_event = threading.Event()\n",
    "\n",
    "    def fetch_data(self, mintime, maxtime):\n",
    "        self.simulator.fetch_new_data_point()\n",
    "        ts_dataframe=self.simulator.data\n",
    "        return ts_dataframe\n",
    "\n",
    "    def initialize_plot(self):\n",
    "        self.fig = go.Figure()\n",
    "        self.fig.update_layout(title='Dynamic data - temperature (simulated)', xaxis_title='time', yaxis_title='value')\n",
    "        return self.fig\n",
    "\n",
    "    def update_plot(self, interval_minutes):\n",
    "        while not self.stop_event.is_set():\n",
    "            now = datetime.utcnow()\n",
    "            mintime = (now - timedelta(minutes=interval_minutes)).strftime('%Y-%m-%dT%H:%M:%S')\n",
    "            maxtime = now.strftime('%Y-%m-%dT%H:%M:%S')\n",
    "            \n",
    "            df = self.fetch_data(mintime, maxtime)\n",
    "            \n",
    "            if not df.empty:\n",
    "                self.fig.data = []\n",
    "                self.fig.add_trace(go.Scatter(x=df['time'], y=df['value'], mode='lines', name='Time Series'))\n",
    "                clear_output(wait=True)\n",
    "                display(self.fig)\n",
    "            else:\n",
    "                print(\"No new data to display.\")\n",
    "            \n",
    "            time.sleep(interval_minutes * 60)  # Wait for the next update\n",
    "\n",
    "    def start_display(self, sample_time_minutes=0.05):\n",
    "        self.fig = self.initialize_plot()\n",
    "        display(self.fig)\n",
    "        \n",
    "        update_thread = threading.Thread(target=self.update_plot,  kwargs={'interval_minutes': sample_time_minutes})\n",
    "        update_thread.start()\n",
    "\n",
    "    def stop_display(self):\n",
    "        self.stop_event.set()"
   ]
  },
  {
   "cell_type": "code",
   "execution_count": null,
   "id": "59ae58df-5059-461f-b958-4f16a57a4f58",
   "metadata": {},
   "outputs": [],
   "source": [
    "# retrieve the personal workspace (fake)"
   ]
  },
  {
   "cell_type": "code",
   "execution_count": null,
   "id": "cd90fa87-3374-4f67-bdc9-e3e023042fd7",
   "metadata": {},
   "outputs": [],
   "source": [
    "my_workspace=IPSES('UserId1').get_workspace()"
   ]
  },
  {
   "cell_type": "code",
   "execution_count": null,
   "id": "7a5720a2-0fa0-4653-8828-057ee2389842",
   "metadata": {},
   "outputs": [],
   "source": [
    "################################################################################################################################\n",
    "# My current workspace:\n",
    "################################################################################################################################"
   ]
  },
  {
   "cell_type": "code",
   "execution_count": null,
   "id": "599ec5b6-5018-4f53-a05e-bd5fb31a3930",
   "metadata": {},
   "outputs": [],
   "source": [
    "my_workspace"
   ]
  },
  {
   "cell_type": "code",
   "execution_count": null,
   "id": "0e803f3f-aa0e-41ef-a7ec-6f0aa35e11cc",
   "metadata": {},
   "outputs": [],
   "source": [
    "################################################################################################################################\n",
    "# Example 1 - Retrieve data from Italian Tsunami Effects Database: Tsunami History WFS (ITED V1)\n",
    "################################################################################################################################"
   ]
  },
  {
   "cell_type": "code",
   "execution_count": null,
   "id": "0a72f221-e70f-4036-9017-ee2cbd87fdc4",
   "metadata": {},
   "outputs": [],
   "source": [
    "# retrieve the remote json data from the first 'bookmark' defined in my workspace\n",
    "tsunami_data=json.loads(my_workspace.get_data(0))\n",
    "# Make it a flat table and create a dataframe\n",
    "tsunami_dataframe=pd.json_normalize(tsunami_data['features'])[['properties.ISTAT', 'properties.Link', 'properties.Municipality', \n",
    "                                                               'properties.PlaceID', 'properties.PlaceName', 'properties.Province', \n",
    "                                                               'properties.PlaceLat', 'properties.PlaceLon']]"
   ]
  },
  {
   "cell_type": "code",
   "execution_count": null,
   "id": "bfaf3565-8741-471b-a5da-1683277397a5",
   "metadata": {},
   "outputs": [],
   "source": [
    "# Save the dataframe to a CSV file, for further analyses\n",
    "tsunami_dataframe.to_csv('tsunami_data_01.csv')"
   ]
  },
  {
   "cell_type": "code",
   "execution_count": null,
   "id": "4b1dac95-131e-42e8-b803-deaa0be38ba9",
   "metadata": {},
   "outputs": [],
   "source": [
    "tsunami_dataframe"
   ]
  },
  {
   "cell_type": "code",
   "execution_count": null,
   "id": "541d7bbc-4062-4405-81ed-5ce9a108e7c7",
   "metadata": {},
   "outputs": [],
   "source": [
    "# Display the dataframe on a map (through the ipyleaflet widget)\n",
    "show_tsunami_data_on_a_map(tsunami_dataframe)"
   ]
  },
  {
   "cell_type": "code",
   "execution_count": null,
   "id": "7ba209cb-fb4c-47ed-8d57-eb48d4796444",
   "metadata": {},
   "outputs": [],
   "source": [
    "# Let's filter the dataframe to keep just some provinces, using pandas\n",
    "tsunami_dataframe_filtered = tsunami_dataframe[tsunami_dataframe['properties.Province'].isin(['FC', 'RA', 'FE', 'RN'])]"
   ]
  },
  {
   "cell_type": "code",
   "execution_count": null,
   "id": "9d5f20e1-d2f6-4d43-9988-e524e516f3b9",
   "metadata": {},
   "outputs": [],
   "source": [
    "# Display it on a map\n",
    "show_tsunami_data_on_a_map(tsunami_dataframe_filtered)"
   ]
  },
  {
   "cell_type": "code",
   "execution_count": null,
   "id": "d28dc5b7-3c5d-4c1a-afaf-c3980d2e734e",
   "metadata": {},
   "outputs": [],
   "source": [
    "################################################################################################################################\n",
    "# Example 2: Retrieve data from Mt Etna Earthquake Parameters (2000-2019) \n",
    "################################################################################################################################"
   ]
  },
  {
   "cell_type": "code",
   "execution_count": null,
   "id": "ecaac2bd-97e8-42d8-bf89-092381ca7b62",
   "metadata": {},
   "outputs": [],
   "source": [
    "volcano_data=json.loads(my_workspace.get_data(1))\n",
    "volcano_dataframe=pd.DataFrame(volcano_data)"
   ]
  },
  {
   "cell_type": "code",
   "execution_count": null,
   "id": "f7804aa9-6d89-4f59-80a8-d971f13a713d",
   "metadata": {},
   "outputs": [],
   "source": [
    "# Save the dataframe to a CSV file\n",
    "volcano_dataframe.to_csv('volcano_data_01.csv')"
   ]
  },
  {
   "cell_type": "code",
   "execution_count": null,
   "id": "076bc7ce-2e5b-47d1-8f5d-b3ac02e8c409",
   "metadata": {},
   "outputs": [],
   "source": [
    "volcano_dataframe"
   ]
  },
  {
   "cell_type": "code",
   "execution_count": null,
   "id": "1400a01e-8f65-49cd-ad3e-633a28173c67",
   "metadata": {},
   "outputs": [],
   "source": [
    "# Display the dataframe on a map (through the ipyleaflet widget)\n",
    "show_volcano_data_on_a_map(volcano_dataframe)"
   ]
  },
  {
   "cell_type": "code",
   "execution_count": null,
   "id": "4c33946d-7da5-48b4-af57-129262a6389e",
   "metadata": {},
   "outputs": [],
   "source": [
    "# try update the dataframe with a new (fake) entry and display it again on a map\n",
    "\n",
    "last_row = volcano_dataframe.iloc[-1]\n",
    "last_row['site']='Milan - monte stella'\n",
    "last_row['lat']=45.490132926198754\n",
    "last_row['lon']=9.133201710252422\n",
    "silly_dataframe = pd.concat([volcano_dataframe, pd.DataFrame([last_row])], ignore_index=True)\n",
    "show_volcano_data_on_a_map(silly_dataframe, zoom_level=5)"
   ]
  },
  {
   "cell_type": "code",
   "execution_count": null,
   "id": "f8851149-45b3-441d-9f65-27646b1c434a",
   "metadata": {},
   "outputs": [],
   "source": [
    "################################################################################################################################\n",
    "# Example 3 - Retrieve time series data (air temperature),  from TABOO Meteo at CO2 site\n",
    "################################################################################################################################"
   ]
  },
  {
   "cell_type": "code",
   "execution_count": null,
   "id": "c9bbd7fd-87a5-4b5d-8e08-340679f48f03",
   "metadata": {},
   "outputs": [],
   "source": [
    "# retrieve the data from the remote service and build a Dataframe out of it\n",
    "ts_data=json.loads(my_workspace.get_data(2))\n",
    "ts_dataframe=pd.json_normalize(pd.DataFrame(ts_data).results)"
   ]
  },
  {
   "cell_type": "code",
   "execution_count": null,
   "id": "84c18940-3c8e-4fc9-9a50-a169555374e1",
   "metadata": {},
   "outputs": [],
   "source": [
    "# Save the dataframe to a CSV file\n",
    "ts_dataframe.to_csv('ts_data_01.csv')"
   ]
  },
  {
   "cell_type": "code",
   "execution_count": null,
   "id": "0f4a4995-1a11-49e0-8942-de7737a0e930",
   "metadata": {},
   "outputs": [],
   "source": [
    "ts_dataframe"
   ]
  },
  {
   "cell_type": "code",
   "execution_count": null,
   "id": "587866e1-51f4-4326-83d0-f6cb5f62e3d7",
   "metadata": {},
   "outputs": [],
   "source": [
    "# Plot the graph for this TS (through the plotly widgets library)\n",
    "plot_ts_data(ts_dataframe, 'time', 'value', 'air temperature', color='station_code')"
   ]
  },
  {
   "cell_type": "code",
   "execution_count": null,
   "id": "c941b3f5-272f-451f-b33d-3c42b9d83a8d",
   "metadata": {},
   "outputs": [],
   "source": [
    "# Let's ovedrlay an additional time series\n",
    "# retrieve the new TS amd create a dataframe\n",
    "ts_data2=json.loads(my_workspace.get_data(3))\n",
    "ts_dataframe2=pd.json_normalize(pd.DataFrame(ts_data2).results)"
   ]
  },
  {
   "cell_type": "code",
   "execution_count": null,
   "id": "d86d2c89-a039-4ef4-941d-7b990ae93d0a",
   "metadata": {},
   "outputs": [],
   "source": [
    "# then, plot the TSs\n",
    "plot_ts_data(pd.concat([ts_dataframe, ts_dataframe2]), 'time', 'value', 'air temperature from multiple stations', color='station_code')"
   ]
  },
  {
   "cell_type": "code",
   "execution_count": null,
   "id": "894d21e5-b7bd-4723-ab5e-0132384a37ab",
   "metadata": {},
   "outputs": [],
   "source": [
    "################################################################################################################################\n",
    "# Example 4 - demo dynamic data (fake): updates each 3 seconds\n",
    "################################################################################################################################"
   ]
  },
  {
   "cell_type": "code",
   "execution_count": null,
   "id": "dab16815-9280-4145-b796-efa8fedb86d4",
   "metadata": {},
   "outputs": [],
   "source": [
    "dyn_graph1=DisplayDynamicDataDemo(TemperatureDataSimulator(window_size=10, interval_seconds=10))\n",
    "dyn_graph1.start_display(sample_time_minutes=0.05)"
   ]
  },
  {
   "cell_type": "code",
   "execution_count": null,
   "id": "0425268f-7572-488f-afbd-20ec63a9ddbf",
   "metadata": {},
   "outputs": [],
   "source": [
    "# to stop updating the graph\n",
    "dyn_graph1.stop_display()"
   ]
  }
 ],
 "metadata": {
  "kernelspec": {
   "display_name": "Python 3 (ipykernel)",
   "language": "python",
   "name": "python3"
  },
  "language_info": {
   "codemirror_mode": {
    "name": "ipython",
    "version": 3
   },
   "file_extension": ".py",
   "mimetype": "text/x-python",
   "name": "python",
   "nbconvert_exporter": "python",
   "pygments_lexer": "ipython3",
   "version": "3.12.3"
  }
 },
 "nbformat": 4,
 "nbformat_minor": 5
}
